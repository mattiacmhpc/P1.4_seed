{
 "cells": [
  {
   "cell_type": "code",
   "execution_count": 3,
   "metadata": {},
   "outputs": [],
   "source": [
    "import numpy as np"
   ]
  },
  {
   "cell_type": "code",
   "execution_count": 17,
   "metadata": {},
   "outputs": [],
   "source": [
    "def generate_lagrangian_basis(q,e):\n",
    "\n",
    "\n",
    "    assert len(q.shape) == 1\n",
    "    assert len(e.shape) == 1\n",
    "\n",
    "    n_evaluation_points=e.shape[0]\n",
    "    n_interpolation_points = q.shape[0]\n",
    "\n",
    "    basis=np.ones((n_evaluation_points, n_interpolation_points), dtype=np.float64)\n",
    "\n",
    "    for i in range(n_evaluation_points):\n",
    "        for j in range(n_interpolation_points):\n",
    "            for k in range(n_interpolation_points):\n",
    "                if(j==k): continue\n",
    "                basis[i,j]=basis[i,j]*(e[i]-q[k])/(q[j]-q[k])\n",
    "                \n",
    "    return basis"
   ]
  },
  {
   "cell_type": "code",
   "execution_count": null,
   "metadata": {},
   "outputs": [],
   "source": []
  },
  {
   "cell_type": "code",
   "execution_count": 18,
   "metadata": {},
   "outputs": [
    {
     "data": {
      "text/plain": [
       "array([[ 1.   ,  0.   , -0.   ],\n",
       "       [ 0.375,  0.75 , -0.125],\n",
       "       [-0.   ,  1.   ,  0.   ],\n",
       "       [-0.125,  0.75 ,  0.375],\n",
       "       [ 0.   , -0.   ,  1.   ]])"
      ]
     },
     "execution_count": 18,
     "metadata": {},
     "output_type": "execute_result"
    }
   ],
   "source": [
    "q=np.linspace(0,1,3)\n",
    "e=np.linspace(0,1,5)\n",
    "generate_lagrangian_basis(q,e)"
   ]
  },
  {
   "cell_type": "code",
   "execution_count": 19,
   "metadata": {},
   "outputs": [
    {
     "data": {
      "text/plain": [
       "array([0. , 0.5, 1. ])"
      ]
     },
     "execution_count": 19,
     "metadata": {},
     "output_type": "execute_result"
    }
   ],
   "source": [
    "q"
   ]
  },
  {
   "cell_type": "code",
   "execution_count": 20,
   "metadata": {},
   "outputs": [
    {
     "data": {
      "text/plain": [
       "array([0.  , 0.25, 0.5 , 0.75, 1.  ])"
      ]
     },
     "execution_count": 20,
     "metadata": {},
     "output_type": "execute_result"
    }
   ],
   "source": [
    "e"
   ]
  },
  {
   "cell_type": "code",
   "execution_count": 29,
   "metadata": {},
   "outputs": [],
   "source": [
    "def interpolate_function(f,q,e):\n",
    "    basis=generate_lagrangian_basis(q,e)\n",
    "    n_eval_points=e.shape[0]\n",
    "    n_interp_points=q.shape[0]\n",
    "    y= np.zeros((n_eval_points),dtype=np.float64)\n",
    "    for i in range(n_eval_points):\n",
    "        for j in range(n_interp_points):\n",
    "            y[i]=y[i]+f(q[j])*basis[i,j]\n",
    "    return y"
   ]
  },
  {
   "cell_type": "code",
   "execution_count": 30,
   "metadata": {},
   "outputs": [],
   "source": [
    "def sinus_f(x):\n",
    "    return np.sin(2*np.pi*x)"
   ]
  },
  {
   "cell_type": "code",
   "execution_count": 31,
   "metadata": {},
   "outputs": [
    {
     "data": {
      "text/plain": [
       "array([ 0.00000000e+00,  5.00000000e-01,  8.66025404e-01,  1.00000000e+00,\n",
       "        8.66025404e-01,  5.00000000e-01, -1.46028729e-17, -5.00000000e-01,\n",
       "       -8.66025404e-01, -1.00000000e+00, -8.66025404e-01, -5.00000000e-01,\n",
       "       -2.44929360e-16])"
      ]
     },
     "execution_count": 31,
     "metadata": {},
     "output_type": "execute_result"
    }
   ],
   "source": [
    "interpolate_function(sinus_f,q,e)"
   ]
  },
  {
   "cell_type": "code",
   "execution_count": 36,
   "metadata": {},
   "outputs": [
    {
     "data": {
      "image/png": "[encoded data removed]",
      "text/plain": [
       "<Figure size 432x288 with 1 Axes>"
      ]
     },
     "metadata": {
      "needs_background": "light"
     },
     "output_type": "display_data"
    }
   ],
   "source": [
    "q=np.linspace(0,1,30)\n",
    "e=np.linspace(0,1,13)\n",
    "import matplotlib.pyplot as plt\n",
    "plt.plot(e,sinus_f(e),color ='blue')\n",
    "plt.plot(q,sinus_f(q),marker='o',color='green')\n",
    "plt.scatter(e,interpolate_function(sinus_f,q,e),color='red')\n",
    "plt.show()"
   ]
  },
  {
   "cell_type": "code",
   "execution_count": null,
   "metadata": {},
   "outputs": [],
   "source": []
  },
  {
   "cell_type": "code",
   "execution_count": null,
   "metadata": {},
   "outputs": [],
   "source": []
  },
  {
   "cell_type": "code",
   "execution_count": null,
   "metadata": {},
   "outputs": [],
   "source": []
  },
  {
   "cell_type": "code",
   "execution_count": null,
   "metadata": {},
   "outputs": [],
   "source": []
  },
  {
   "cell_type": "code",
   "execution_count": null,
   "metadata": {},
   "outputs": [],
   "source": []
  },
  {
   "cell_type": "code",
   "execution_count": null,
   "metadata": {},
   "outputs": [],
   "source": []
  },
  {
   "cell_type": "code",
   "execution_count": null,
   "metadata": {},
   "outputs": [],
   "source": []
  },
  {
   "cell_type": "code",
   "execution_count": null,
   "metadata": {},
   "outputs": [],
   "source": []
  }
 ],
 "metadata": {
  "kernelspec": {
   "display_name": "Python 3",
   "language": "python",
   "name": "python3"
  },
  "language_info": {
   "codemirror_mode": {
    "name": "ipython",
    "version": 3
   },
   "file_extension": ".py",
   "mimetype": "text/x-python",
   "name": "python",
   "nbconvert_exporter": "python",
   "pygments_lexer": "ipython3",
   "version": "3.7.4"
  }
 },
 "nbformat": 4,
 "nbformat_minor": 2
}
